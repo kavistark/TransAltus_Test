{
 "cells": [
  {
   "cell_type": "code",
   "execution_count": 12,
   "id": "7cd40b1a-8856-4a94-8a61-13fa01934d72",
   "metadata": {},
   "outputs": [
    {
     "name": "stdout",
     "output_type": "stream",
     "text": [
      "Requirement already satisfied: pandas in c:\\users\\admin\\appdata\\local\\programs\\python\\python313\\lib\\site-packages (2.2.3)\n",
      "Requirement already satisfied: scikit-learn in c:\\users\\admin\\appdata\\local\\programs\\python\\python313\\lib\\site-packages (1.7.0)\n",
      "Requirement already satisfied: numpy>=1.26.0 in c:\\users\\admin\\appdata\\local\\programs\\python\\python313\\lib\\site-packages (from pandas) (2.2.3)\n",
      "Requirement already satisfied: python-dateutil>=2.8.2 in c:\\users\\admin\\appdata\\local\\programs\\python\\python313\\lib\\site-packages (from pandas) (2.9.0.post0)\n",
      "Requirement already satisfied: pytz>=2020.1 in c:\\users\\admin\\appdata\\local\\programs\\python\\python313\\lib\\site-packages (from pandas) (2025.1)\n",
      "Requirement already satisfied: tzdata>=2022.7 in c:\\users\\admin\\appdata\\local\\programs\\python\\python313\\lib\\site-packages (from pandas) (2025.1)\n",
      "Requirement already satisfied: scipy>=1.8.0 in c:\\users\\admin\\appdata\\local\\programs\\python\\python313\\lib\\site-packages (from scikit-learn) (1.16.0)\n",
      "Requirement already satisfied: joblib>=1.2.0 in c:\\users\\admin\\appdata\\local\\programs\\python\\python313\\lib\\site-packages (from scikit-learn) (1.5.1)\n",
      "Requirement already satisfied: threadpoolctl>=3.1.0 in c:\\users\\admin\\appdata\\local\\programs\\python\\python313\\lib\\site-packages (from scikit-learn) (3.6.0)\n",
      "Requirement already satisfied: six>=1.5 in c:\\users\\admin\\appdata\\local\\programs\\python\\python313\\lib\\site-packages (from python-dateutil>=2.8.2->pandas) (1.17.0)\n"
     ]
    },
    {
     "name": "stderr",
     "output_type": "stream",
     "text": [
      "\n",
      "[notice] A new release of pip is available: 25.0.1 -> 25.1.1\n",
      "[notice] To update, run: python.exe -m pip install --upgrade pip\n"
     ]
    }
   ],
   "source": [
    "!pip install pandas scikit-learn\n"
   ]
  },
  {
   "cell_type": "code",
   "execution_count": 13,
   "id": "0a54680d-4f9d-4701-9ddb-6cc20b4af864",
   "metadata": {},
   "outputs": [
    {
     "name": "stdout",
     "output_type": "stream",
     "text": [
      "Sample Data:\n",
      "                                          review_text          category\n",
      "0  The delivery was late and I received the wrong...    Delivery Issue\n",
      "1  The product quality is very poor and broke aft...   Product Quality\n",
      "2            Customer support was unhelpful and rude  Customer Service\n",
      "3               Great product, exactly as described!   Product Quality\n",
      "4       Delivery was quick but packaging was damaged    Delivery Issue\n"
     ]
    }
   ],
   "source": [
    "import pandas as pd\n",
    "def load_dataset(file_path):\n",
    "    df = pd.read_csv(file_path)\n",
    "    print(\"Sample Data:\\n\", df.head())\n",
    "    return df\n",
    "df = load_dataset(\"reviews.csv\")\n"
   ]
  },
  {
   "cell_type": "code",
   "execution_count": 14,
   "id": "fa3701d7-d89c-4fe5-abde-617323a9f7e4",
   "metadata": {},
   "outputs": [],
   "source": [
    "import string\n",
    "from sklearn.feature_extraction.text import ENGLISH_STOP_WORDS\n",
    "\n",
    "def preprocess_text(text):\n",
    "    text = text.lower()\n",
    "    # Remove punctuation\n",
    "    text = ''.join(char for char in text if char not in string.punctuation)\n",
    "    # Remove stopwords\n",
    "    words = text.split()\n",
    "    filtered_words = [word for word in words if word not in ENGLISH_STOP_WORDS]\n",
    "    return ' '.join(filtered_words)\n"
   ]
  },
  {
   "cell_type": "code",
   "execution_count": 15,
   "id": "377cc1d0-d038-45f2-ab99-37c0746e5645",
   "metadata": {},
   "outputs": [
    {
     "name": "stdout",
     "output_type": "stream",
     "text": [
      "                                         review_text  \\\n",
      "0  The delivery was late and I received the wrong...   \n",
      "1  The product quality is very poor and broke aft...   \n",
      "2            Customer support was unhelpful and rude   \n",
      "3               Great product, exactly as described!   \n",
      "4       Delivery was quick but packaging was damaged   \n",
      "5   I had to wait a long time for support to respond   \n",
      "6  This is my second time buying, and it's excellent   \n",
      "7                    Package was lost during transit   \n",
      "8         The support team solved my problem quickly   \n",
      "9  Product works fine but color is slightly diffe...   \n",
      "\n",
      "                                  cleaned_text  \n",
      "0            delivery late received wrong item  \n",
      "1               product quality poor broke use  \n",
      "2              customer support unhelpful rude  \n",
      "3              great product exactly described  \n",
      "4             delivery quick packaging damaged  \n",
      "5               wait long time support respond  \n",
      "6                 second time buying excellent  \n",
      "7                         package lost transit  \n",
      "8          support team solved problem quickly  \n",
      "9  product works fine color slightly different  \n"
     ]
    }
   ],
   "source": [
    "\n",
    "df['cleaned_text'] = df['review_text'].apply(preprocess_text)\n",
    "\n",
    "print(df[['review_text', 'cleaned_text']])"
   ]
  },
  {
   "cell_type": "code",
   "execution_count": 16,
   "id": "03e06af8-2efd-43c7-a6f5-1beac5550b64",
   "metadata": {},
   "outputs": [],
   "source": [
    "from sklearn.feature_extraction.text import TfidfVectorizer\n",
    "from sklearn.model_selection import train_test_split\n",
    "from sklearn.naive_bayes import MultinomialNB\n",
    "from sklearn.metrics import accuracy_score\n",
    "\n",
    "def train_model(df):\n",
    "    # Vectorization\n",
    "    vectorizer = TfidfVectorizer()\n",
    "    X = vectorizer.fit_transform(df['cleaned_text'])\n",
    "    y = df['category']\n",
    "    # Train-test split\n",
    "    X_train, X_test, y_train, y_test = train_test_split(X, y, test_size=0.2, random_state=42)\n",
    "    # Model training\n",
    "    model = MultinomialNB()\n",
    "    model.fit(X_train, y_train)\n",
    "    # Prediction & Evaluation\n",
    "    y_pred = model.predict(X_test)\n",
    "    acc = accuracy_score(y_test, y_pred)\n",
    "    print(f\"Model Accuracy: {acc:.2f}\")\n",
    "    return model, vectorizer\n"
   ]
  },
  {
   "cell_type": "code",
   "execution_count": 17,
   "id": "b40bb70b-6978-4e31-aa1e-e5b830275b69",
   "metadata": {},
   "outputs": [
    {
     "name": "stdout",
     "output_type": "stream",
     "text": [
      "Model Accuracy: 0.50\n"
     ]
    }
   ],
   "source": [
    "\n",
    "model, vectorizer = train_model(df)\n"
   ]
  },
  {
   "cell_type": "code",
   "execution_count": 18,
   "id": "3ad25036-ba1f-4c7a-8f30-c79085af340c",
   "metadata": {},
   "outputs": [],
   "source": [
    "def predict_category(model, vectorizer, new_review):\n",
    "    cleaned_review = preprocess_text(new_review)\n",
    "    vector = vectorizer.transform([cleaned_review])\n",
    "    prediction = model.predict(vector)\n",
    "    return prediction[0]\n"
   ]
  },
  {
   "cell_type": "code",
   "execution_count": 19,
   "id": "e15406fb-df2a-4d91-a2a8-d90082264149",
   "metadata": {},
   "outputs": [
    {
     "name": "stdout",
     "output_type": "stream",
     "text": [
      "Predicted Category: Delivery Issue\n"
     ]
    }
   ],
   "source": [
    "new_review = \"I waited two weeks but my order never arrived.\"\n",
    "predicted_category = predict_category(model, vectorizer, new_review)\n",
    "print(\"Predicted Category:\", predicted_category)\n"
   ]
  },
  {
   "cell_type": "code",
   "execution_count": null,
   "id": "5829e418-f416-4321-9a7c-12dcb9e745e1",
   "metadata": {},
   "outputs": [],
   "source": []
  },
  {
   "cell_type": "code",
   "execution_count": null,
   "id": "0a02289f-8341-4a33-9f90-c97484c728fe",
   "metadata": {},
   "outputs": [],
   "source": []
  }
 ],
 "metadata": {
  "kernelspec": {
   "display_name": "Python 3 (ipykernel)",
   "language": "python",
   "name": "python3"
  },
  "language_info": {
   "codemirror_mode": {
    "name": "ipython",
    "version": 3
   },
   "file_extension": ".py",
   "mimetype": "text/x-python",
   "name": "python",
   "nbconvert_exporter": "python",
   "pygments_lexer": "ipython3",
   "version": "3.13.2"
  }
 },
 "nbformat": 4,
 "nbformat_minor": 5
}
